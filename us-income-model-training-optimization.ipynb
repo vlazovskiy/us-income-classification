{
 "cells": [
  {
   "cell_type": "code",
   "execution_count": 1,
   "metadata": {
    "collapsed": true
   },
   "outputs": [],
   "source": [
    "import numpy as np\n",
    "import pandas as pd\n",
    "\n",
    "from sklearn.ensemble import RandomForestClassifier\n",
    "from sklearn.model_selection import train_test_split\n",
    "\n",
    "from sklearn.model_selection import GridSearchCV\n",
    "from sklearn.model_selection import RandomizedSearchCV\n",
    "\n",
    "from sklearn.metrics import classification_report\n",
    "from sklearn.metrics import accuracy_score\n",
    "\n",
    "import seaborn as sns\n",
    "sns.set_context('notebook')\n",
    "import matplotlib.pyplot as plt\n",
    "%matplotlib inline"
   ]
  },
  {
   "cell_type": "markdown",
   "metadata": {},
   "source": [
    "Define functions which will be used for training, tuning, and evaluating models."
   ]
  },
  {
   "cell_type": "code",
   "execution_count": 2,
   "metadata": {
    "collapsed": true
   },
   "outputs": [],
   "source": [
    "# Train a baseline random forest model\n",
    "def train_rfc(X, y, params = {'n_estimators' : 100, \n",
    "                              'random_state' : 42,\n",
    "                              'n_jobs' : -1}):\n",
    "    \"\"\"\n",
    "    Helper function to train a baseline random forest classifier.\n",
    "    \"\"\"\n",
    "    rfc = RandomForestClassifier(**params)\n",
    "    rfc.fit(X, y)\n",
    "    return rfc"
   ]
  },
  {
   "cell_type": "code",
   "execution_count": 3,
   "metadata": {
    "collapsed": true
   },
   "outputs": [],
   "source": [
    "# Hyperparameter tuning techniques \n",
    "def get_grid_search_best_params(X, y, model, params, scoring_metric = 'f1', cv = 5):\n",
    "    \"\"\"\n",
    "    Runs grid search on specified parameters and returns parameter set with highest score.\n",
    "    \"\"\"\n",
    "    grid_search = GridSearchCV(model, param_grid = params, scoring = scoring_metric, cv = cv)\n",
    "    grid_search.fit(X, y)\n",
    "    return grid_search.best_params_  \n",
    "\n",
    "def get_random_search_best_params(X, y, model, params, scoring_metric = 'f1', cv = 5, n_iter_search = 20):\n",
    "    \"\"\"\n",
    "    Runs random search on specified parameters and returns parameter set with highest score.\n",
    "    \"\"\"\n",
    "    random_search = RandomizedSearchCV(model, param_distributions = params, scoring = scoring_metric, \n",
    "                                       n_iter = n_iter_search, cv = cv)\n",
    "    random_search.fit(X, y)\n",
    "    return random_search.best_params_ "
   ]
  },
  {
   "cell_type": "code",
   "execution_count": 4,
   "metadata": {
    "collapsed": true
   },
   "outputs": [],
   "source": [
    "# Evaluate model results\n",
    "def model_performance_report(model, X, y):\n",
    "    \"\"\"\n",
    "    Gets model performance metrics, like precision, recall, f1 score, accuracy score.\n",
    "    \"\"\"\n",
    "    y_pred = model.predict(X)\n",
    "    print(classification_report(y, y_pred))\n",
    "    print('accuracy score:', accuracy_score(y, y_pred))\n",
    "    \n",
    "def plot_feature_importances(model, feature_names, top_n = 10):\n",
    "    \"\"\"\n",
    "    Plots top N features in order of importance scores decided by the model.\n",
    "    \"\"\"\n",
    "    feat_importances = sorted(zip(feature_names, abs(model.feature_importances_)), key = lambda x: -x[1])[:top_n]\n",
    "    frame_size = top_n // 2\n",
    "    plt.figure(figsize = (frame_size, frame_size))\n",
    "    features_, scores_ = zip(*feat_importances)\n",
    "    sns.barplot(y = list(features_), x = list(scores_), palette = 'pastel')\n",
    "    plt.title('feature relative importances', fontsize = 14)\n",
    "    plt.xlabel('feature importance scores', fontsize = 12)\n",
    "    plt.ylabel('features', fontsize = 12);"
   ]
  },
  {
   "cell_type": "code",
   "execution_count": 5,
   "metadata": {
    "collapsed": true
   },
   "outputs": [],
   "source": [
    "df = pd.read_csv('us_income_data.csv')"
   ]
  },
  {
   "cell_type": "code",
   "execution_count": 6,
   "metadata": {
    "collapsed": true
   },
   "outputs": [],
   "source": [
    "# Prepare train, validation, and test sets\n",
    "target_var = 'income'\n",
    "\n",
    "X, y = df.drop(target_var, axis=1), df[target_var]\n",
    "X_train, X_test, y_train, y_test = train_test_split(X, y, test_size = 0.4, random_state = 42) \n",
    "X_train, X_val, y_train, y_val = train_test_split(X_train, y_train, test_size= 0.3, random_state = 42)"
   ]
  },
  {
   "cell_type": "markdown",
   "metadata": {},
   "source": [
    "Now we can train the data and tune hyperparameters. For this assignment, I chose random forest for my mode. Since the data has many categorical features which are turned into a sparse matrix of dummies, I think it makes sense to approach it with a tree-based model which will perform binary splits and also handle numerical features without scaling them.\n",
    "\n",
    "Here, I will train a baseline random forest classifier, optimize it with GridSearch and RandomizedSearch, and compare results."
   ]
  },
  {
   "cell_type": "code",
   "execution_count": 7,
   "metadata": {},
   "outputs": [
    {
     "name": "stdout",
     "output_type": "stream",
     "text": [
      "CPU times: user 1.59 s, sys: 43.4 ms, total: 1.63 s\n",
      "Wall time: 598 ms\n"
     ]
    }
   ],
   "source": [
    "# Train baseline random forest binary classifier\n",
    "%time baseline_rfc = train_rfc(X_train, y_train)"
   ]
  },
  {
   "cell_type": "code",
   "execution_count": 8,
   "metadata": {
    "collapsed": true
   },
   "outputs": [],
   "source": [
    "# Generate parameters for random and grid search\n",
    "n_estimators = [int(x) for x in np.linspace(start = 20, stop = 1000, num = 8)]\n",
    "max_features = ['auto', 'sqrt']\n",
    "max_depth = [int(x) for x in np.linspace(10, 30, num = 6)]\n",
    "max_depth.append(None)\n",
    "min_samples_leaf = [1, 2, 5, 10]\n",
    "bootstrap = [True, False]\n",
    "class_weight = ['balanced', None]"
   ]
  },
  {
   "cell_type": "code",
   "execution_count": 9,
   "metadata": {
    "collapsed": true
   },
   "outputs": [],
   "source": [
    "# Define random grid parameters.\n",
    "random_search_params = {'n_estimators' : n_estimators,\n",
    "                        'max_features' : max_features,\n",
    "                        'max_depth' : max_depth,\n",
    "                        'min_samples_leaf' : min_samples_leaf,\n",
    "                        'bootstrap' : bootstrap,\n",
    "                        'class_weight' : class_weight}"
   ]
  },
  {
   "cell_type": "code",
   "execution_count": 10,
   "metadata": {},
   "outputs": [
    {
     "name": "stdout",
     "output_type": "stream",
     "text": [
      "CPU times: user 15min 12s, sys: 27.5 s, total: 15min 40s\n",
      "Wall time: 5min 39s\n"
     ]
    }
   ],
   "source": [
    "# Run random search on baseline classifier and get best scoring parameters.\n",
    "%time random_search_best_params = get_random_search_best_params(X_train, y_train, baseline_rfc, random_search_params)"
   ]
  },
  {
   "cell_type": "code",
   "execution_count": 11,
   "metadata": {
    "collapsed": true
   },
   "outputs": [],
   "source": [
    "# Define grid search parameters\n",
    "grid_search_params = {'n_estimators' : [100, 150, 200],\n",
    "                      'max_features' : max_features,\n",
    "                      'max_depth' : [15, 25],\n",
    "                      'min_samples_leaf' : [2, 5, 8],\n",
    "                      'bootstrap' : bootstrap,\n",
    "                      'class_weight' : ['balanced', None]}"
   ]
  },
  {
   "cell_type": "code",
   "execution_count": 12,
   "metadata": {},
   "outputs": [
    {
     "name": "stdout",
     "output_type": "stream",
     "text": [
      "CPU times: user 25min 37s, sys: 41.9 s, total: 26min 19s\n",
      "Wall time: 10min 58s\n"
     ]
    }
   ],
   "source": [
    "%time grid_search_best_params = get_grid_search_best_params(X_train, y_train, baseline_rfc, grid_search_params)"
   ]
  },
  {
   "cell_type": "markdown",
   "metadata": {},
   "source": [
    "Now train two more models with the best parameters from GridSearch and RandomizedSearch."
   ]
  },
  {
   "cell_type": "code",
   "execution_count": 13,
   "metadata": {},
   "outputs": [
    {
     "name": "stdout",
     "output_type": "stream",
     "text": [
      "CPU times: user 1.56 s, sys: 10.2 ms, total: 1.57 s\n",
      "Wall time: 1.58 s\n"
     ]
    }
   ],
   "source": [
    "%time rfc_grid_search_params = train_rfc(X_train, y_train, grid_search_best_params)"
   ]
  },
  {
   "cell_type": "code",
   "execution_count": 14,
   "metadata": {},
   "outputs": [
    {
     "name": "stdout",
     "output_type": "stream",
     "text": [
      "CPU times: user 6.87 s, sys: 76.9 ms, total: 6.94 s\n",
      "Wall time: 7.06 s\n"
     ]
    }
   ],
   "source": [
    "%time rfc_random_search_params = train_rfc(X_train, y_train, random_search_best_params)"
   ]
  },
  {
   "cell_type": "markdown",
   "metadata": {},
   "source": [
    "### Testing on validation set"
   ]
  },
  {
   "cell_type": "code",
   "execution_count": 15,
   "metadata": {},
   "outputs": [
    {
     "name": "stdout",
     "output_type": "stream",
     "text": [
      "Performance report for baseline random forest classifier.\n",
      "\n",
      "             precision    recall  f1-score   support\n",
      "\n",
      "          0       0.87      0.92      0.90      4095\n",
      "          1       0.72      0.61      0.66      1379\n",
      "\n",
      "avg / total       0.84      0.84      0.84      5474\n",
      "\n",
      "accuracy score: 0.842345633906\n"
     ]
    },
    {
     "data": {
      "image/png": "[encoded data removed]",
      "text/plain": [
       "<matplotlib.figure.Figure at 0x115ec4438>"
      ]
     },
     "metadata": {},
     "output_type": "display_data"
    }
   ],
   "source": [
    "print(\"Performance report for baseline random forest classifier.\")\n",
    "print()\n",
    "model_performance_report(baseline_rfc, X_val, y_val)\n",
    "plot_feature_importances(baseline_rfc, X_train.columns.values)"
   ]
  },
  {
   "cell_type": "code",
   "execution_count": 16,
   "metadata": {},
   "outputs": [
    {
     "name": "stdout",
     "output_type": "stream",
     "text": [
      "Performance report for random forest classifier with grid search best parameters.\n",
      "\n",
      "             precision    recall  f1-score   support\n",
      "\n",
      "          0       0.91      0.86      0.89      4095\n",
      "          1       0.64      0.76      0.70      1379\n",
      "\n",
      "avg / total       0.85      0.83      0.84      5474\n",
      "\n",
      "accuracy score: 0.833942272561\n"
     ]
    },
    {
     "data": {
      "image/png": "[encoded data removed]",
      "text/plain": [
       "<matplotlib.figure.Figure at 0x11c7d18d0>"
      ]
     },
     "metadata": {},
     "output_type": "display_data"
    }
   ],
   "source": [
    "print(\"Performance report for random forest classifier with grid search best parameters.\")\n",
    "print()\n",
    "model_performance_report(rfc_grid_search_params, X_val, y_val)\n",
    "plot_feature_importances(rfc_grid_search_params, X_train.columns.values)"
   ]
  },
  {
   "cell_type": "code",
   "execution_count": 17,
   "metadata": {},
   "outputs": [
    {
     "name": "stdout",
     "output_type": "stream",
     "text": [
      "Performance report for random forest classifier with random search best parameters.\n",
      "\n",
      "             precision    recall  f1-score   support\n",
      "\n",
      "          0       0.91      0.86      0.89      4095\n",
      "          1       0.65      0.76      0.70      1379\n",
      "\n",
      "avg / total       0.85      0.84      0.84      5474\n",
      "\n",
      "accuracy score: 0.837595907928\n"
     ]
    },
    {
     "data": {
      "image/png": "[encoded data removed]",
      "text/plain": [
       "<matplotlib.figure.Figure at 0x107d53c50>"
      ]
     },
     "metadata": {},
     "output_type": "display_data"
    }
   ],
   "source": [
    "print(\"Performance report for random forest classifier with random search best parameters.\")\n",
    "print()\n",
    "model_performance_report(rfc_random_search_params, X_val, y_val)\n",
    "plot_feature_importances(rfc_random_search_params, X_train.columns.values)"
   ]
  },
  {
   "cell_type": "markdown",
   "metadata": {},
   "source": [
    "The baseline model has worse precision for the majority class but better precision for the minority class, and models whose parameters were tuned with GridSearch and RandomizedSearch perform slightly better in terms of f1 score for both classes. Since f1 score was the evaluation metric, I am going to choose the model whose parameters were tuned with GridSearch because it has the highest f1 score of them all."
   ]
  },
  {
   "cell_type": "markdown",
   "metadata": {},
   "source": [
    "### Model performance on test data"
   ]
  },
  {
   "cell_type": "markdown",
   "metadata": {},
   "source": [
    "Now let's see how the model of choice performs on unseen data."
   ]
  },
  {
   "cell_type": "code",
   "execution_count": 18,
   "metadata": {},
   "outputs": [
    {
     "name": "stdout",
     "output_type": "stream",
     "text": [
      "Performance report for model of choice: baseline random forest classifier.\n",
      "\n",
      "             precision    recall  f1-score   support\n",
      "\n",
      "          0       0.91      0.86      0.89      9138\n",
      "          1       0.65      0.75      0.70      3026\n",
      "\n",
      "avg / total       0.85      0.84      0.84     12164\n",
      "\n",
      "accuracy score: 0.837142387373\n"
     ]
    }
   ],
   "source": [
    "print(\"Performance report for model of choice: baseline random forest classifier.\")\n",
    "print()\n",
    "model_performance_report(rfc_grid_search_params, X_test, y_test)"
   ]
  }
 ],
 "metadata": {
  "kernelspec": {
   "display_name": "Python 3",
   "language": "python",
   "name": "python3"
  },
  "language_info": {
   "codemirror_mode": {
    "name": "ipython",
    "version": 3
   },
   "file_extension": ".py",
   "mimetype": "text/x-python",
   "name": "python",
   "nbconvert_exporter": "python",
   "pygments_lexer": "ipython3",
   "version": "3.6.4"
  }
 },
 "nbformat": 4,
 "nbformat_minor": 2
}
